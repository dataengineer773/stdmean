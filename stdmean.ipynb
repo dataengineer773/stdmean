{
 "cells": [
  {
   "cell_type": "code",
   "execution_count": 1,
   "id": "d636fa6a-daee-4417-9b4a-d38008dd08ec",
   "metadata": {},
   "outputs": [],
   "source": [
    "import itertools"
   ]
  },
  {
   "cell_type": "code",
   "execution_count": 2,
   "id": "3bb36f72-d29d-4c09-b2da-f800e4bc5794",
   "metadata": {},
   "outputs": [],
   "source": [
    "def std_from_mean_kde(data):\n",
    "    \"\"\"\n",
    "    Plot the KDE of the pandas series along with vertical\n",
    "    reference lines for each standard deviation from the mean.\n",
    "    \n",
    "    Parameters:\n",
    "        - data: pandas Series with numeric data\n",
    "    \n",
    "    Returns:\n",
    "        Matplotlib Axes object.\n",
    "    \"\"\"\n",
    "    mean_mag, std_mean = data.mean(), data.std()\n",
    "    \n",
    "    ax = data.plot(kind='kde')\n",
    "    ax.axvline(mean_mag, color='b', alpha=0.2, label='mean')\n",
    "    \n",
    "    colors = ['green', 'orange', 'red']\n",
    "    multipliers = [1, 2, 3]\n",
    "    signs = ['-', '+']\n",
    "    \n",
    "    for sign, (color, multiplier) in itertools.product(\n",
    "        signs, zip(colors, multipliers)\n",
    "    ):\n",
    "        adjustment = multiplier * std_mean\n",
    "        if sign == '-':\n",
    "            value = mean_mag - adjustment\n",
    "            label = '{} {}{}{}'.format(\n",
    "                r'$\\mu$',\n",
    "                r'$\\pm$',\n",
    "                multiplier,\n",
    "                r'$\\sigma$'\n",
    "            )\n",
    "        else:\n",
    "            value = mean_mag + adjustment\n",
    "            label = None\n",
    "        ax.axvline(value, color=color, label=label, alpha=0.5)\n",
    "    \n",
    "    ax.legend()\n",
    "    return ax"
   ]
  },
  {
   "cell_type": "code",
   "execution_count": null,
   "id": "f2b28723-8c04-40f7-82c6-9cf00f4073ac",
   "metadata": {},
   "outputs": [],
   "source": []
  }
 ],
 "metadata": {
  "kernelspec": {
   "display_name": "Python 3 (ipykernel)",
   "language": "python",
   "name": "python3"
  },
  "language_info": {
   "codemirror_mode": {
    "name": "ipython",
    "version": 3
   },
   "file_extension": ".py",
   "mimetype": "text/x-python",
   "name": "python",
   "nbconvert_exporter": "python",
   "pygments_lexer": "ipython3",
   "version": "3.10.12"
  }
 },
 "nbformat": 4,
 "nbformat_minor": 5
}
